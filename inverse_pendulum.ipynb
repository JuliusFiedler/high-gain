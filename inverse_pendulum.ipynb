{
 "cells": [
  {
   "cell_type": "code",
   "execution_count": 1,
   "metadata": {},
   "outputs": [],
   "source": [
    "import sympy as sp\n",
    "from sympy import sin, cos, pi\n",
    "# from sympy.interactive import printing\n",
    "import pickle\n",
    "import numpy as np\n",
    "import scipy as sc\n",
    "import scipy.interpolate\n",
    "from scipy.integrate import odeint\n",
    "import matplotlib.pyplot as plt\n",
    "\n",
    "import symbtools as st\n",
    "import symbtools.modeltools as mt\n",
    "import symbtools.noncommutativetools as nct\n",
    "import symbtools.modeltools as mt"
   ]
  },
  {
   "cell_type": "code",
   "execution_count": 13,
   "metadata": {},
   "outputs": [],
   "source": [
    "x1, x2, x3 = xx = sp.symbols(\"x1, x2, x3\")\n",
    "k = sp.symbols(\"k\")\n",
    "m = 1; g=9.81; l=1; J=0.01\n",
    "k_value = m*g*l/(J+m*l**2)\n",
    "params = [(k, k_value)]"
   ]
  },
  {
   "cell_type": "code",
   "execution_count": 14,
   "metadata": {},
   "outputs": [
    {
     "data": {
      "text/latex": [
       "$\\displaystyle \\left[\\begin{matrix}- x_{2} x_{3}\\\\x_{1} x_{3}\\\\- k x_{1}\\end{matrix}\\right]$"
      ],
      "text/plain": [
       "Matrix([\n",
       "[-x2*x3],\n",
       "[ x1*x3],\n",
       "[ -k*x1]])"
      ]
     },
     "execution_count": 14,
     "metadata": {},
     "output_type": "execute_result"
    }
   ],
   "source": [
    "ff = sp.Matrix([[-x2*x3], [x1*x3], [-k*x1]])\n",
    "ff"
   ]
  },
  {
   "cell_type": "code",
   "execution_count": 239,
   "metadata": {},
   "outputs": [],
   "source": [
    "h = x1\n",
    "N = 3"
   ]
  },
  {
   "cell_type": "code",
   "execution_count": 240,
   "metadata": {},
   "outputs": [
    {
     "data": {
      "text/latex": [
       "$\\displaystyle \\left[\\begin{matrix}x_{1}\\\\- x_{2} x_{3}\\\\k x_{1} x_{2} - x_{1} x_{3}^{2}\\end{matrix}\\right]$"
      ],
      "text/plain": [
       "Matrix([\n",
       "[                x1],\n",
       "[            -x2*x3],\n",
       "[k*x1*x2 - x1*x3**2]])"
      ]
     },
     "execution_count": 240,
     "metadata": {},
     "output_type": "execute_result"
    }
   ],
   "source": [
    "lie = []\n",
    "for i in range(N):\n",
    "    lie.append(st.lie_deriv(h, ff, xx, order=i))\n",
    "\n",
    "q = sp.Matrix(lie)\n",
    "q"
   ]
  },
  {
   "cell_type": "code",
   "execution_count": 241,
   "metadata": {},
   "outputs": [
    {
     "data": {
      "text/latex": [
       "$\\displaystyle \\left[\\begin{matrix}1 & 0 & 0\\\\0 & - x_{3} & - x_{2}\\\\k x_{2} - x_{3}^{2} & k x_{1} & - 2 x_{1} x_{3}\\end{matrix}\\right]$"
      ],
      "text/plain": [
       "Matrix([\n",
       "[           1,    0,        0],\n",
       "[           0,  -x3,      -x2],\n",
       "[k*x2 - x3**2, k*x1, -2*x1*x3]])"
      ]
     },
     "execution_count": 241,
     "metadata": {},
     "output_type": "execute_result"
    }
   ],
   "source": [
    "Q = q.jacobian(xx)\n",
    "Q"
   ]
  },
  {
   "cell_type": "code",
   "execution_count": 242,
   "metadata": {},
   "outputs": [
    {
     "name": "stdout",
     "output_type": "stream",
     "text": [
      "\\left[\\begin{matrix}1 & 0 & 0\\\\0 & - x_{3} & - x_{2}\\\\k x_{2} - x_{3}^{2} & k x_{1} & - 2 x_{1} x_{3}\\end{matrix}\\right]\n"
     ]
    }
   ],
   "source": [
    "sp.print_latex(Q)"
   ]
  },
  {
   "cell_type": "code",
   "execution_count": 243,
   "metadata": {},
   "outputs": [
    {
     "data": {
      "text/latex": [
       "$\\displaystyle \\left[\\begin{matrix}1 & 0 & 0\\\\0 & 0 & - x_{2}\\\\k x_{2} & k x_{1} & 0\\end{matrix}\\right]$"
      ],
      "text/plain": [
       "Matrix([\n",
       "[   1,    0,   0],\n",
       "[   0,    0, -x2],\n",
       "[k*x2, k*x1,   0]])"
      ]
     },
     "execution_count": 243,
     "metadata": {},
     "output_type": "execute_result"
    }
   ],
   "source": [
    "Q.subs(x3,0)"
   ]
  },
  {
   "cell_type": "code",
   "execution_count": 244,
   "metadata": {},
   "outputs": [
    {
     "data": {
      "text/latex": [
       "$\\displaystyle \\left[\\begin{matrix}1 & 0 & 0\\\\0 & - x_{3} & - x_{2}\\\\k x_{2} - x_{3}^{2} & 0 & 0\\end{matrix}\\right]$"
      ],
      "text/plain": [
       "Matrix([\n",
       "[           1,   0,   0],\n",
       "[           0, -x3, -x2],\n",
       "[k*x2 - x3**2,   0,   0]])"
      ]
     },
     "execution_count": 244,
     "metadata": {},
     "output_type": "execute_result"
    }
   ],
   "source": [
    "Q.subs(x1,0)"
   ]
  },
  {
   "cell_type": "code",
   "execution_count": 245,
   "metadata": {},
   "outputs": [
    {
     "name": "stdout",
     "output_type": "stream",
     "text": [
      "k*x1*x2 + 2*x1*x3**2\n",
      "[(x1, 0, 0)]\n"
     ]
    }
   ],
   "source": [
    "if Q.shape[0] == Q.shape[1]:\n",
    "    print(Q.det())\n",
    "    print(sp.solve(Q.det(), xx))"
   ]
  },
  {
   "cell_type": "code",
   "execution_count": 255,
   "metadata": {},
   "outputs": [
    {
     "data": {
      "text/latex": [
       "$\\displaystyle x_{1} \\left(- k \\left(x_{1}^{2} - 1\\right) + 2 x_{3}^{2}\\right)$"
      ],
      "text/plain": [
       "x1*(-k*(x1**2 - 1) + 2*x3**2)"
      ]
     },
     "execution_count": 255,
     "metadata": {},
     "output_type": "execute_result"
    }
   ],
   "source": [
    "sp.simplify(Q.det().subs(x2, 1-x1**2))"
   ]
  },
  {
   "cell_type": "code",
   "execution_count": 246,
   "metadata": {},
   "outputs": [
    {
     "data": {
      "text/plain": [
       "[(0, x2, x3),\n",
       " (-sqrt((k + 2*x3**2)/k), x2, x3),\n",
       " (sqrt((k + 2*x3**2)/k), x2, x3)]"
      ]
     },
     "execution_count": 246,
     "metadata": {},
     "output_type": "execute_result"
    }
   ],
   "source": [
    "sp.solve(sp.simplify(Q.det().subs(x2, 1-x1**2)), xx)"
   ]
  },
  {
   "cell_type": "code",
   "execution_count": 247,
   "metadata": {},
   "outputs": [
    {
     "name": "stdout",
     "output_type": "stream",
     "text": [
      "gen. rank 3\n",
      "gen. rank 2\n",
      "gen. rank 2\n",
      "gen. rank 2\n",
      "gen. rank 2\n",
      "gen. rank 3\n",
      "gen. rank 3\n"
     ]
    }
   ],
   "source": [
    "print(\"gen. rank\", st.generic_rank(Q))\n",
    "print(\"gen. rank\", st.generic_rank(Q.subs([(x1,0), (x3,0)])))\n",
    "print(\"gen. rank\", st.generic_rank(Q.subs([(x2,0), (x3,0)])))\n",
    "print(\"gen. rank\", st.generic_rank(Q.subs([(x1,0), (x2,0)])))\n",
    "print(\"gen. rank\", st.generic_rank(Q.subs([(x1,0)])))\n",
    "print(\"gen. rank\", st.generic_rank(Q.subs([(x2,0)])))\n",
    "print(\"gen. rank\", st.generic_rank(Q.subs([(x3,0)])))\n"
   ]
  },
  {
   "cell_type": "code",
   "execution_count": 248,
   "metadata": {},
   "outputs": [
    {
     "data": {
      "text/plain": [
       "3"
      ]
     },
     "execution_count": 248,
     "metadata": {},
     "output_type": "execute_result"
    }
   ],
   "source": [
    "Q.rank()"
   ]
  },
  {
   "cell_type": "code",
   "execution_count": 249,
   "metadata": {},
   "outputs": [],
   "source": [
    "import adolc\n",
    "from systems import *"
   ]
  },
  {
   "cell_type": "code",
   "execution_count": 250,
   "metadata": {},
   "outputs": [
    {
     "name": "stdout",
     "output_type": "stream",
     "text": [
      "Output x2\n"
     ]
    }
   ],
   "source": [
    "system = InvPendulum2()\n",
    "rhs = system.rhs\n",
    "output = system.get_output\n",
    "print(\"Output\", system.h_symb)\n",
    "\n",
    "\n",
    "def output(state):\n",
    "    return state[1]\n",
    "\n",
    "Tape_F = 0\n",
    "Tape_H = 1\n",
    "\n",
    "n = system.n\n",
    "adolc.trace_on(Tape_F)\n",
    "af = [adolc.adouble() for _ in range(n)]\n",
    "for i in range(n):\n",
    "    af[i].declareIndependent()\n",
    "vf = rhs(0, af)\n",
    "for a in vf:\n",
    "    a.declareDependent()\n",
    "adolc.trace_off()\n",
    "\n",
    "\n",
    "adolc.trace_on(Tape_H)\n",
    "ah = [adolc.adouble() for _ in range(n)]\n",
    "for i in range(n):\n",
    "    ah[i].declareIndependent()\n",
    "vh = output(ah)\n",
    "vh.declareDependent()\n",
    "adolc.trace_off()\n",
    "\n",
    "def autodiff(p0, d=2):\n",
    "    lie = adolc.lie_gradientc(Tape_F, Tape_H, p0, d)\n",
    "    return lie, np.linalg.matrix_rank(lie)"
   ]
  },
  {
   "cell_type": "code",
   "execution_count": 251,
   "metadata": {},
   "outputs": [
    {
     "data": {
      "text/latex": [
       "$\\displaystyle \\left[\\begin{matrix}1 & 0 & 0\\\\0 & -0.1 & -1\\\\k - 0.01 & 0 & 0\\end{matrix}\\right]$"
      ],
      "text/plain": [
       "Matrix([\n",
       "[       1,    0,  0],\n",
       "[       0, -0.1, -1],\n",
       "[k - 0.01,    0,  0]])"
      ]
     },
     "execution_count": 251,
     "metadata": {},
     "output_type": "execute_result"
    }
   ],
   "source": [
    "p0 = [0, 1, 0.1]\n",
    "Q.subs([(x, p) for x, p in zip(xx, p0)])"
   ]
  },
  {
   "cell_type": "code",
   "execution_count": 252,
   "metadata": {},
   "outputs": [
    {
     "data": {
      "text/plain": [
       "array([ 1.  ,  0.  , -0.01])"
      ]
     },
     "execution_count": 252,
     "metadata": {},
     "output_type": "execute_result"
    }
   ],
   "source": [
    "adolc.lie_scalarc(Tape_F, Tape_H, p0, 2)"
   ]
  },
  {
   "cell_type": "code",
   "execution_count": 253,
   "metadata": {},
   "outputs": [
    {
     "data": {
      "text/plain": [
       "(array([[ 0.  ,  0.1 ,  0.  ],\n",
       "        [ 1.  ,  0.  , -0.01],\n",
       "        [ 0.  ,  0.  , -0.2 ]]),\n",
       " 3)"
      ]
     },
     "execution_count": 253,
     "metadata": {},
     "output_type": "execute_result"
    }
   ],
   "source": [
    "autodiff(p0, 2)"
   ]
  },
  {
   "cell_type": "code",
   "execution_count": 254,
   "metadata": {},
   "outputs": [
    {
     "data": {
      "image/png": "[encoded data removed]",
      "text/plain": [
       "<Figure size 640x480 with 1 Axes>"
      ]
     },
     "metadata": {},
     "output_type": "display_data"
    }
   ],
   "source": [
    "from scipy.integrate import solve_ivp\n",
    "sol1 = solve_ivp(system.rhs, (0,10), y0=[1,0,0], t_eval=np.linspace(0,10,1000))\n",
    "sol2 = solve_ivp(system.rhs, (0,10), y0=[-1,0,0], t_eval=np.linspace(0,10,1000))\n",
    "import matplotlib.pyplot as plt\n",
    "plt.plot(sol1.t, sol1.y[1], label=\"1,0,0\")\n",
    "plt.plot(sol2.t, sol2.y[1], label=\"-1,0,0\")\n",
    "plt.show()\n",
    "assert all(sol1.y[1] == sol2.y[1])"
   ]
  }
 ],
 "metadata": {
  "kernelspec": {
   "display_name": "obs",
   "language": "python",
   "name": "python3"
  },
  "language_info": {
   "codemirror_mode": {
    "name": "ipython",
    "version": 3
   },
   "file_extension": ".py",
   "mimetype": "text/x-python",
   "name": "python",
   "nbconvert_exporter": "python",
   "pygments_lexer": "ipython3",
   "version": "3.9.0"
  }
 },
 "nbformat": 4,
 "nbformat_minor": 2
}
