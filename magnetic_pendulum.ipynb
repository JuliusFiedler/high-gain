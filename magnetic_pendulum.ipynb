{
 "cells": [
  {
   "cell_type": "code",
   "execution_count": null,
   "metadata": {},
   "outputs": [],
   "source": [
    "import sympy as sp\n",
    "import numpy as np\n",
    "import scipy as sc\n",
    "from scipy.integrate import *\n",
    "import matplotlib.pyplot as plt\n",
    "\n",
    "import symbtools as st\n",
    "import symbtools.modeltools as mt\n",
    "import symbtools.noncommutativetools as nct\n",
    "import symbtools.modeltools as mt"
   ]
  },
  {
   "cell_type": "code",
   "execution_count": null,
   "metadata": {},
   "outputs": [],
   "source": [
    "n_charges = 3\n",
    "charges = np.ones(n_charges) * -1\n",
    "if n_charges == 1:\n",
    "    magnet_positions = np.array([[0,0]])\n",
    "else:\n",
    "    magnet_positions = np.array([[np.cos(phi), np.sin(phi)] for phi in [i*2*np.pi/n_charges for i in np.arange(n_charges)]])\n",
    "h = 1\n",
    "b = 0.\n",
    "w0 = 0.5"
   ]
  },
  {
   "cell_type": "code",
   "execution_count": null,
   "metadata": {},
   "outputs": [],
   "source": [
    "def rhs_single(t, x):\n",
    "    s = np.array([0,0], dtype=float)\n",
    "    for pos, p in zip(magnet_positions, charges):\n",
    "        s += p * (pos- x[0:2]) * ((pos[0]-x[0])**2 + (pos[1]-x[1])**2 + h**2)**(-3/2)\n",
    "\n",
    "    dx1 = x[2]\n",
    "    dx2 = x[3]\n",
    "    dx3 = s[0] - b*x[2] - w0**2*x[0]\n",
    "    dx4 = s[1] - b*x[3] - w0**2*x[1]\n",
    "\n",
    "    return np.array([dx1, dx2, dx3, dx4])\n",
    "def rhs(t, x):\n",
    "    n, m = x.shape\n",
    "    s = np.zeros((2, m), dtype=float)\n",
    "    for _pos, p in zip(magnet_positions, charges):\n",
    "        pos = np.zeros((m, 2), dtype=float)\n",
    "        pos[:] = _pos\n",
    "        pos = pos.T\n",
    "        s += p * (pos- x[0:2]) * ((pos[0]-x[0])**2 + (pos[1]-x[1])**2 + h**2)**(-3/2)\n",
    "\n",
    "    dx1 = x[2]\n",
    "    dx2 = x[3]\n",
    "    dx3 = s[0] - b*x[2] - w0**2*x[0]\n",
    "    dx4 = s[1] - b*x[3] - w0**2*x[1]\n",
    "\n",
    "    return np.array([dx1, dx2, dx3, dx4])"
   ]
  },
  {
   "cell_type": "code",
   "execution_count": null,
   "metadata": {},
   "outputs": [],
   "source": [
    "tend = 80\n",
    "tt = np.linspace(0, tend, 1000)\n",
    "xx0 = [1.5,1.5,0,0]\n",
    "sol = solve_ivp(rhs_single, (0, tend), xx0, \"RK45\", t_eval=tt, rtol=1e-7, atol=1e-7)\n",
    "# plt.plot(sol.t, sol.y[0], label=\"x1\")\n",
    "# plt.plot(sol.t, sol.y[1], label=\"x2\")\n",
    "# plt.legend()\n",
    "# plt.show()\n",
    "\n",
    "fig = plt.figure()\n",
    "ax = fig.add_subplot(111)\n",
    "ax.plot(sol.y[0], sol.y[1])\n",
    "ax.scatter(sol.y[0][0], sol.y[1][0])\n",
    "ax.set_aspect('equal', 'box')\n",
    "ax.grid()\n",
    "ax.scatter(*magnet_positions.T, color= \"red\")"
   ]
  },
  {
   "cell_type": "code",
   "execution_count": null,
   "metadata": {},
   "outputs": [],
   "source": [
    "def get_dominant_magnet(xx, colors):\n",
    "    assert len(colors) == len(magnet_positions)\n",
    "    distances = []\n",
    "    n, m = xx.shape\n",
    "    for _mag in magnet_positions:\n",
    "        mag = np.zeros((m,2))\n",
    "        mag[:] = _mag\n",
    "        mag = mag.T\n",
    "        distances.append([(mag[0]-xx[0])**2 + (mag[1]-xx[1])**2])\n",
    "    indices = np.argmin(np.squeeze(np.array(distances)), axis=0)\n",
    "    colorcode = np.zeros_like(indices, dtype=object)\n",
    "    for i in range(len(colors)):\n",
    "        colorcode[indices == i] = colors[i]\n",
    "    return colorcode"
   ]
  },
  {
   "cell_type": "code",
   "execution_count": null,
   "metadata": {},
   "outputs": [],
   "source": [
    "limits = [[-2, 2], [-2, 2]]\n",
    "num_interpolation_points = 200\n",
    "\n",
    "mesh_index = []\n",
    "for i in range(len(limits)):\n",
    "    mesh_index.append(np.linspace(*limits[i], num_interpolation_points))\n",
    "meshgrid = np.meshgrid(*mesh_index) # shape [(NIP, NIP, ..), (NIP, NIP, ..)]\n",
    "points = np.vstack([x.ravel() for x in meshgrid]).T"
   ]
  },
  {
   "cell_type": "code",
   "execution_count": null,
   "metadata": {},
   "outputs": [],
   "source": [
    "import time\n",
    "def simulate(xx, tend, dt=0.01, min_step = 100):\n",
    "    step = 0\n",
    "    n, m = xx.shape\n",
    "    a_pre = np.zeros((2, m))\n",
    "    a_cur = np.zeros((2, m))\n",
    "    a_nex = np.zeros((2, m))\n",
    "    times = np.array([0,0,0] ,dtype=float)\n",
    "    # sol = []\n",
    "    for t in np.linspace(0, tend, int(tend/dt)):\n",
    "        step += 1\n",
    "        t1 = time.time()\n",
    "        # pos\n",
    "        xx[0] += xx[2] * dt + 1/6 * (4*a_cur[0] - a_pre[0]) * dt**2\n",
    "        xx[1] += xx[3] * dt + 1/6 * (4*a_cur[1] - a_pre[1]) * dt**2\n",
    "        t2 = time.time()\n",
    "        # acc\n",
    "        a_nex = rhs(t, xx)[2:]\n",
    "        t3 = time.time()\n",
    "        # vel\n",
    "        xx[2] += 1/6 * (2*a_nex[0] + 5*a_cur[0] - a_pre[0]) * dt\n",
    "        xx[3] += 1/6 * (2*a_nex[1] + 5*a_cur[1] - a_pre[1]) * dt\n",
    "\n",
    "        # propagate\n",
    "        a_pre = a_cur\n",
    "        a_cur = a_nex\n",
    "        t4 = time.time()\n",
    "        # sol.append(np.copy(xx))\n",
    "        times += np.array([t2-t1, t3-t2, t4-t3])\n",
    "        # sol.append(np.copy(xx))\n",
    "        # if np.linalg.norm(xx[2:]) < 1e-2 and step > min_step:\n",
    "        #     print(t)\n",
    "        #     break\n",
    "    # return np.array(sol), times\n",
    "    return xx, times\n",
    "dt = 0.01\n",
    "tend = 20\n",
    "xx0 = np.zeros((len(points), 4))\n",
    "xx0[:,:2] = points\n",
    "xx0 = xx0.T\n",
    "xx0\n",
    "sol, times = simulate(xx0, tend, dt)\n",
    "times"
   ]
  },
  {
   "cell_type": "code",
   "execution_count": null,
   "metadata": {},
   "outputs": [],
   "source": [
    "fig = plt.figure()\n",
    "ax = fig.add_subplot(111)\n",
    "colors = [\"blue\", \"cyan\", \"purple\"]\n",
    "colorcode = get_dominant_magnet(sol[:2], colors)\n",
    "ax.scatter(*points.T, color=colorcode, s=0.1)\n",
    "ax.set_aspect('equal', 'box')\n",
    "ax.grid()\n",
    "ax.scatter(*magnet_positions.T, color= \"red\")\n",
    "ax.scatter(*points[9012], color=\"black\")\n",
    "# line\n",
    "x = np.linspace(-2, 2, 100)\n",
    "y = np.tan(1/12*np.pi)*x\n",
    "plt.plot(x,y, color=\"black\")"
   ]
  },
  {
   "cell_type": "code",
   "execution_count": null,
   "metadata": {},
   "outputs": [],
   "source": [
    "cyanidx = np.array(np.where(colorcode == \"cyan\"))[0]\n",
    "np.where(np.abs(cyanidx[1:-1] - cyanidx[0:-2]) > 100)\n",
    "\n"
   ]
  },
  {
   "cell_type": "code",
   "execution_count": null,
   "metadata": {},
   "outputs": [],
   "source": [
    "cyanidx[2562]"
   ]
  },
  {
   "cell_type": "code",
   "execution_count": null,
   "metadata": {},
   "outputs": [],
   "source": [
    "colorcode[cyanidx[2562]+1]"
   ]
  },
  {
   "cell_type": "code",
   "execution_count": null,
   "metadata": {},
   "outputs": [],
   "source": [
    "colorcode[9012], colorcode[9013]"
   ]
  },
  {
   "cell_type": "code",
   "execution_count": null,
   "metadata": {},
   "outputs": [],
   "source": [
    "bb = np.array([1, np.tan(1/12*np.pi)])\n",
    "# bb = np.array([1,0])\n",
    "pp = np.array([1,1])\n",
    "aa = np.array([0,0])\n",
    "t0 = (pp-aa)@bb/(np.linalg.norm(bb))**2\n",
    "ll = aa + t0*bb\n",
    "pp_new = 2*ll-pp\n",
    "pp_new"
   ]
  },
  {
   "cell_type": "code",
   "execution_count": null,
   "metadata": {},
   "outputs": [],
   "source": [
    "np.array([[-2], [0.5]]) * np.ones((2, 2000))"
   ]
  },
  {
   "cell_type": "code",
   "execution_count": null,
   "metadata": {},
   "outputs": [],
   "source": [
    "x[:,0]"
   ]
  },
  {
   "cell_type": "code",
   "execution_count": null,
   "metadata": {},
   "outputs": [],
   "source": [
    "\n",
    "np.random.seed(2)\n",
    "n = 70\n",
    "x = (np.random.random(size=(2,n))-0.5)*4\n",
    "w = np.zeros((2,n))\n",
    "xx0 = np.array([*x, *w])\n",
    "# xx0 = np.zeros((4,2))\n",
    "# xx0[:2,0] = points[9012]\n",
    "# xx0[:2,1] = points[9013]\n",
    "# xx0[:2,0] = pp\n",
    "# xx0[:2,1] = pp_new\n",
    "\n",
    "tend = 40\n",
    "tt = np.linspace(0, tend, 2000)\n",
    "fig = plt.figure()\n",
    "ax = fig.add_subplot(111)\n",
    "fig2 = plt.figure()\n",
    "ax2 = fig2.add_subplot(111)\n",
    "point = np.array([-2, 0.5])\n",
    "for x0 in xx0.T:\n",
    "    sol = solve_ivp(rhs_single, (0, tend), x0, \"RK45\", t_eval=tt, rtol=1e-7, atol=1e-7)\n",
    "    ax.plot(sol.y[0], sol.y[1])\n",
    "    ax.scatter(sol.y[0][0], sol.y[1][0])\n",
    "    dist = np.sqrt((sol.y[0]-point[0])**2 + (sol.y[1]-point[1])**2)\n",
    "    ax2.plot(sol.t, dist)\n",
    "ax.set_aspect('equal', 'box')\n",
    "ax.grid()\n",
    "ax.scatter(*magnet_positions.T, color= \"red\")\n",
    "# x = np.linspace(-2, 2, 100)\n",
    "# y = np.tan(1/12*np.pi)*x\n",
    "# ax.plot(x,y, color=\"black\")"
   ]
  },
  {
   "cell_type": "code",
   "execution_count": null,
   "metadata": {},
   "outputs": [],
   "source": [
    "plt.plot(sol.y[0]*np.cos(1/12*np.pi)+sol.y[1]*np.sin(1/12*np.pi))"
   ]
  },
  {
   "cell_type": "code",
   "execution_count": null,
   "metadata": {},
   "outputs": [],
   "source": [
    "np.cos(1/12*np.pi)"
   ]
  },
  {
   "cell_type": "code",
   "execution_count": null,
   "metadata": {},
   "outputs": [],
   "source": [
    "xx0 = np.zeros((4,2))\n",
    "xx0[:2,0] = points[9012]\n",
    "xx0[:2,1] = points[9013]\n",
    "\n",
    "tend = 20\n",
    "tt = np.linspace(0, tend, 1000)\n",
    "fig = plt.figure()\n",
    "ax = fig.add_subplot(111)\n",
    "solutions = []\n",
    "for x0 in xx0.T:\n",
    "    sol = solve_ivp(rhs_single, (0, tend), x0, \"RK45\", t_eval=tt, rtol=1e-7, atol=1e-7)\n",
    "    solutions.append(sol)\n",
    "x = []\n",
    "y = []\n",
    "plt.xlim(-2,2)\n",
    "plt.ylim(-2,2)\n",
    "ax.scatter(solutions[0].y[0][0], solutions[0].y[1][0])\n",
    "ax.scatter(solutions[1].y[0][0], solutions[1].y[1][0])\n",
    "for i in range(len(solutions[0].t)):\n",
    "    # for sol in solutions:\n",
    "    x.append(sol.y[0, i])\n",
    "    y.append(sol.y[1, i])\n",
    "    plt.plot(x, y)\n",
    "    plt.pause(0.01)\n",
    "    plt.show()\n",
    "\n",
    "ax.set_aspect('equal', 'box')\n",
    "ax.grid()\n",
    "ax.scatter(*magnet_positions.T, color= \"red\")"
   ]
  },
  {
   "cell_type": "code",
   "execution_count": null,
   "metadata": {},
   "outputs": [],
   "source": [
    "for pos in magnet_positions:\n",
    "    print(np.linalg.norm(pos))\n"
   ]
  }
 ],
 "metadata": {
  "kernelspec": {
   "display_name": "obs",
   "language": "python",
   "name": "python3"
  },
  "language_info": {
   "codemirror_mode": {
    "name": "ipython",
    "version": 3
   },
   "file_extension": ".py",
   "mimetype": "text/x-python",
   "name": "python",
   "nbconvert_exporter": "python",
   "pygments_lexer": "ipython3",
   "version": "3.9.0"
  }
 },
 "nbformat": 4,
 "nbformat_minor": 2
}
