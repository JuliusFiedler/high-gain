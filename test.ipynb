{
 "cells": [
  {
   "cell_type": "code",
   "execution_count": 1,
   "metadata": {},
   "outputs": [],
   "source": [
    "import sympy as sp\n",
    "from sympy import sin, cos, pi\n",
    "\n",
    "import pickle\n",
    "import numpy as np\n",
    "\n",
    "import matplotlib.pyplot as plt\n",
    "\n",
    "import symbtools as st\n",
    "import symbtools.modeltools as mt"
   ]
  },
  {
   "cell_type": "code",
   "execution_count": 8,
   "metadata": {},
   "outputs": [],
   "source": [
    "np = 1\n",
    "nq = 1\n",
    "n = np + nq\n",
    "\n",
    "x1, x2, x3, x4 = xx = sp.symbols(\"x1, x2, x3, x4\")\n",
    "ttheta = st.row_stack(x1, x2)\n",
    "\n",
    "xdot1, xdot2 = sp.symbols(\"xdot1, xdot2\")\n",
    "\n",
    "params = sp.symbols('m1, m2, l1, g, s1, s2, J1, J2')\n",
    "st.make_global(params)\n",
    "u1 = sp.symbols(\"u1\")\n",
    "parameter_values = [(g, 9.81), (l1, .5), (J1, 1/150), (J2, 1/75), (m1, 1), (m2, 1), (s1, 0.25), (s2, 0.25), (u1, 0)]\n",
    "\n",
    "mt.Rz(x2)\n",
    "\n",
    "# unuit vectors\n",
    "ex = sp.Matrix([1, 0])\n",
    "ey = sp.Matrix([0, 1])\n",
    "\n",
    "# coordinates of the centers of gravity and joints\n",
    "S1 = mt.Rz(x1) * (-ey) * s1\n",
    "G1 = mt.Rz(x1) * (-ey) * l1  # \"elbow joint\"\n",
    "S2 = G1 + mt.Rz(x2 + x1) * (-ey) * s2\n",
    "\n",
    "# time derivatives of the center of gravity coordinates\n",
    "Sd1, Sd2 = st.col_split(st.time_deriv(st.col_stack(S1, S2), ttheta))\n",
    "\n",
    "# kinetic energy\n",
    "T_rot = (J1 * x3**2) / 2 + (J2 * (x4 + x3) ** 2) / 2\n",
    "T_trans = (m1 * Sd1.T * Sd1 + m2 * Sd2.T * Sd2) / 2\n",
    "\n",
    "T = T_rot + T_trans[0]\n",
    "\n",
    "# potential energy\n",
    "V = m1 * g * S1[1] + m2 * g * S2[1]\n",
    "\n",
    "external_forces = [0, u1]\n",
    "assert not any(external_forces[:np])\n",
    "mod = mt.generate_symbolic_model(T, V, ttheta, external_forces)\n",
    "\n",
    "mod.calc_state_eq(simplify=False)\n",
    "\n",
    "state_eq = mod.state_eq.subs([(xdot1, x3), (xdot2, x4)])"
   ]
  },
  {
   "cell_type": "code",
   "execution_count": 13,
   "metadata": {},
   "outputs": [],
   "source": [
    "h = x3\n",
    "f = state_eq.subs(parameter_values)\n",
    "lie = []\n",
    "for i in range(4):\n",
    "    lie.append(st.lie_deriv(h, f, xx, order=i))\n",
    "Q = sp.Matrix(lie)"
   ]
  },
  {
   "cell_type": "code",
   "execution_count": 18,
   "metadata": {},
   "outputs": [
    {
     "name": "stderr",
     "output_type": "stream",
     "text": [
      "/home/julius/anaconda3/envs/obs/lib/python3.9/site-packages/symbtools/core.py:3251: UserWarning: There are Float-Objects contained in the matrix. They are converted to rationals.To make sure that no harm is done, the data should be converted before passingto this function. you can use e.g. rationalize_all_numbers().\n",
      "  warnings.warn(msg, UserWarning)\n"
     ]
    },
    {
     "data": {
      "text/plain": [
       "4"
      ]
     },
     "execution_count": 18,
     "metadata": {},
     "output_type": "execute_result"
    }
   ],
   "source": [
    "J = Q.jacobian(xx)\n",
    "st.generic_rank(J)"
   ]
  },
  {
   "cell_type": "code",
   "execution_count": 22,
   "metadata": {},
   "outputs": [],
   "source": [
    "h = x4\n",
    "f = state_eq.subs(parameter_values)\n",
    "lie = []\n",
    "for i in range(4):\n",
    "    lie.append(st.lie_deriv(h, f, xx, order=i))\n",
    "Q = sp.Matrix(lie)"
   ]
  },
  {
   "cell_type": "code",
   "execution_count": 23,
   "metadata": {},
   "outputs": [
    {
     "name": "stderr",
     "output_type": "stream",
     "text": [
      "/home/julius/anaconda3/envs/obs/lib/python3.9/site-packages/symbtools/core.py:3251: UserWarning: There are Float-Objects contained in the matrix. They are converted to rationals.To make sure that no harm is done, the data should be converted before passingto this function. you can use e.g. rationalize_all_numbers().\n",
      "  warnings.warn(msg, UserWarning)\n"
     ]
    },
    {
     "data": {
      "text/plain": [
       "4"
      ]
     },
     "execution_count": 23,
     "metadata": {},
     "output_type": "execute_result"
    }
   ],
   "source": [
    "J = Q.jacobian(xx)\n",
    "st.generic_rank(J)"
   ]
  }
 ],
 "metadata": {
  "kernelspec": {
   "display_name": "obs",
   "language": "python",
   "name": "python3"
  },
  "language_info": {
   "codemirror_mode": {
    "name": "ipython",
    "version": 3
   },
   "file_extension": ".py",
   "mimetype": "text/x-python",
   "name": "python",
   "nbconvert_exporter": "python",
   "pygments_lexer": "ipython3",
   "version": "3.9.0"
  }
 },
 "nbformat": 4,
 "nbformat_minor": 2
}
